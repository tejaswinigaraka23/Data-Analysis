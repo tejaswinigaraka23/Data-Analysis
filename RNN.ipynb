{
  "nbformat": 4,
  "nbformat_minor": 0,
  "metadata": {
    "colab": {
      "provenance": []
    },
    "kernelspec": {
      "name": "python3",
      "display_name": "Python 3"
    },
    "language_info": {
      "name": "python"
    }
  },
  "cells": [
    {
      "cell_type": "code",
      "execution_count": null,
      "metadata": {
        "colab": {
          "base_uri": "https://localhost:8080/"
        },
        "id": "YzTDt00bQ5fL",
        "outputId": "c27ead1e-7b38-481a-bca1-287d69b936c9"
      },
      "outputs": [
        {
          "output_type": "stream",
          "name": "stdout",
          "text": [
            "Epoch 1/50\n",
            "1/1 - 2s - loss: 2.5116 - accuracy: 0.1000 - 2s/epoch - 2s/step\n",
            "Epoch 2/50\n",
            "1/1 - 0s - loss: 2.4182 - accuracy: 0.1000 - 11ms/epoch - 11ms/step\n",
            "Epoch 3/50\n",
            "1/1 - 0s - loss: 2.3327 - accuracy: 0.3000 - 10ms/epoch - 10ms/step\n",
            "Epoch 4/50\n",
            "1/1 - 0s - loss: 2.2512 - accuracy: 0.3000 - 11ms/epoch - 11ms/step\n",
            "Epoch 5/50\n",
            "1/1 - 0s - loss: 2.1718 - accuracy: 0.3000 - 10ms/epoch - 10ms/step\n",
            "Epoch 6/50\n",
            "1/1 - 0s - loss: 2.0940 - accuracy: 0.3000 - 9ms/epoch - 9ms/step\n",
            "Epoch 7/50\n",
            "1/1 - 0s - loss: 2.0179 - accuracy: 0.3000 - 8ms/epoch - 8ms/step\n",
            "Epoch 8/50\n",
            "1/1 - 0s - loss: 1.9432 - accuracy: 0.3000 - 11ms/epoch - 11ms/step\n",
            "Epoch 9/50\n",
            "1/1 - 0s - loss: 1.8692 - accuracy: 0.3000 - 10ms/epoch - 10ms/step\n",
            "Epoch 10/50\n",
            "1/1 - 0s - loss: 1.7952 - accuracy: 0.3000 - 10ms/epoch - 10ms/step\n",
            "Epoch 11/50\n",
            "1/1 - 0s - loss: 1.7212 - accuracy: 0.4000 - 10ms/epoch - 10ms/step\n",
            "Epoch 12/50\n",
            "1/1 - 0s - loss: 1.6490 - accuracy: 0.4000 - 10ms/epoch - 10ms/step\n",
            "Epoch 13/50\n",
            "1/1 - 0s - loss: 1.5807 - accuracy: 0.5000 - 10ms/epoch - 10ms/step\n",
            "Epoch 14/50\n",
            "1/1 - 0s - loss: 1.5176 - accuracy: 0.5000 - 10ms/epoch - 10ms/step\n",
            "Epoch 15/50\n",
            "1/1 - 0s - loss: 1.4593 - accuracy: 0.6000 - 13ms/epoch - 13ms/step\n",
            "Epoch 16/50\n",
            "1/1 - 0s - loss: 1.4051 - accuracy: 0.7000 - 12ms/epoch - 12ms/step\n",
            "Epoch 17/50\n",
            "1/1 - 0s - loss: 1.3543 - accuracy: 0.7000 - 12ms/epoch - 12ms/step\n",
            "Epoch 18/50\n",
            "1/1 - 0s - loss: 1.3064 - accuracy: 0.6000 - 13ms/epoch - 13ms/step\n",
            "Epoch 19/50\n",
            "1/1 - 0s - loss: 1.2608 - accuracy: 0.6000 - 14ms/epoch - 14ms/step\n",
            "Epoch 20/50\n",
            "1/1 - 0s - loss: 1.2165 - accuracy: 0.6000 - 13ms/epoch - 13ms/step\n",
            "Epoch 21/50\n",
            "1/1 - 0s - loss: 1.1727 - accuracy: 0.7000 - 16ms/epoch - 16ms/step\n",
            "Epoch 22/50\n",
            "1/1 - 0s - loss: 1.1289 - accuracy: 0.7000 - 14ms/epoch - 14ms/step\n",
            "Epoch 23/50\n",
            "1/1 - 0s - loss: 1.0850 - accuracy: 0.7000 - 13ms/epoch - 13ms/step\n",
            "Epoch 24/50\n",
            "1/1 - 0s - loss: 1.0415 - accuracy: 0.7000 - 13ms/epoch - 13ms/step\n",
            "Epoch 25/50\n",
            "1/1 - 0s - loss: 0.9983 - accuracy: 0.7000 - 13ms/epoch - 13ms/step\n",
            "Epoch 26/50\n",
            "1/1 - 0s - loss: 0.9554 - accuracy: 0.7000 - 12ms/epoch - 12ms/step\n",
            "Epoch 27/50\n",
            "1/1 - 0s - loss: 0.9127 - accuracy: 0.7000 - 14ms/epoch - 14ms/step\n",
            "Epoch 28/50\n",
            "1/1 - 0s - loss: 0.8710 - accuracy: 0.7000 - 13ms/epoch - 13ms/step\n",
            "Epoch 29/50\n",
            "1/1 - 0s - loss: 0.8311 - accuracy: 0.7000 - 16ms/epoch - 16ms/step\n",
            "Epoch 30/50\n",
            "1/1 - 0s - loss: 0.7932 - accuracy: 0.7000 - 13ms/epoch - 13ms/step\n",
            "Epoch 31/50\n",
            "1/1 - 0s - loss: 0.7572 - accuracy: 0.7000 - 13ms/epoch - 13ms/step\n",
            "Epoch 32/50\n",
            "1/1 - 0s - loss: 0.7232 - accuracy: 0.8000 - 13ms/epoch - 13ms/step\n",
            "Epoch 33/50\n",
            "1/1 - 0s - loss: 0.6919 - accuracy: 0.8000 - 14ms/epoch - 14ms/step\n",
            "Epoch 34/50\n",
            "1/1 - 0s - loss: 0.6635 - accuracy: 0.8000 - 14ms/epoch - 14ms/step\n",
            "Epoch 35/50\n",
            "1/1 - 0s - loss: 0.6375 - accuracy: 0.8000 - 13ms/epoch - 13ms/step\n",
            "Epoch 36/50\n",
            "1/1 - 0s - loss: 0.6135 - accuracy: 0.8000 - 13ms/epoch - 13ms/step\n",
            "Epoch 37/50\n",
            "1/1 - 0s - loss: 0.5912 - accuracy: 0.8000 - 14ms/epoch - 14ms/step\n",
            "Epoch 38/50\n",
            "1/1 - 0s - loss: 0.5708 - accuracy: 0.8000 - 15ms/epoch - 15ms/step\n",
            "Epoch 39/50\n",
            "1/1 - 0s - loss: 0.5522 - accuracy: 0.8000 - 14ms/epoch - 14ms/step\n",
            "Epoch 40/50\n",
            "1/1 - 0s - loss: 0.5348 - accuracy: 0.8000 - 15ms/epoch - 15ms/step\n",
            "Epoch 41/50\n",
            "1/1 - 0s - loss: 0.5185 - accuracy: 0.8000 - 13ms/epoch - 13ms/step\n",
            "Epoch 42/50\n",
            "1/1 - 0s - loss: 0.5032 - accuracy: 0.8000 - 16ms/epoch - 16ms/step\n",
            "Epoch 43/50\n",
            "1/1 - 0s - loss: 0.4891 - accuracy: 0.8000 - 17ms/epoch - 17ms/step\n",
            "Epoch 44/50\n",
            "1/1 - 0s - loss: 0.4759 - accuracy: 0.8000 - 15ms/epoch - 15ms/step\n",
            "Epoch 45/50\n",
            "1/1 - 0s - loss: 0.4635 - accuracy: 0.8000 - 14ms/epoch - 14ms/step\n",
            "Epoch 46/50\n",
            "1/1 - 0s - loss: 0.4518 - accuracy: 0.8000 - 13ms/epoch - 13ms/step\n",
            "Epoch 47/50\n",
            "1/1 - 0s - loss: 0.4409 - accuracy: 0.8000 - 12ms/epoch - 12ms/step\n",
            "Epoch 48/50\n",
            "1/1 - 0s - loss: 0.4308 - accuracy: 0.8000 - 13ms/epoch - 13ms/step\n",
            "Epoch 49/50\n",
            "1/1 - 0s - loss: 0.4215 - accuracy: 0.8000 - 13ms/epoch - 13ms/step\n",
            "Epoch 50/50\n",
            "1/1 - 0s - loss: 0.4129 - accuracy: 0.8000 - 12ms/epoch - 12ms/step\n"
          ]
        },
        {
          "output_type": "execute_result",
          "data": {
            "text/plain": [
              "<keras.src.callbacks.History at 0x7a4e3e60ffd0>"
            ]
          },
          "metadata": {},
          "execution_count": 1
        }
      ],
      "source": [
        "import numpy as np\n",
        "from keras.models import Sequential\n",
        "from keras.layers import SimpleRNN, Dense, Embedding\n",
        "from keras.preprocessing.text import Tokenizer\n",
        "from keras.preprocessing.sequence import pad_sequences\n",
        "from keras.utils import to_categorical\n",
        "\n",
        "# Generating some example sequential data\n",
        "sentences = ['I love learning','I love python','I hate school',\n",
        "             'Recurrent Neural Networks are powerful']\n",
        "# Tokenizing the words\n",
        "tokenizer = Tokenizer()\n",
        "tokenizer.fit_on_texts(sentences)\n",
        "total_words = len(tokenizer.word_index) + 1\n",
        "\n",
        "# Creating input sequences and their corresponding next words\n",
        "input_sequences = []\n",
        "for sentence in sentences:\n",
        "    tokenized_sentence = tokenizer.texts_to_sequences([sentence])[0]\n",
        "    for i in range(1, len(tokenized_sentence)):\n",
        "        n_gram_sequence = tokenized_sentence[:i+1]\n",
        "        input_sequences.append(n_gram_sequence)\n",
        "\n",
        "# Padding sequences for consistent input size\n",
        "max_sequence_length = max([len(seq) for seq in input_sequences])\n",
        "input_sequences = pad_sequences(input_sequences, maxlen=max_sequence_length, padding='pre')\n",
        "\n",
        "# Creating input and output data\n",
        "X, y = input_sequences[:, :-1], input_sequences[:, -1]\n",
        "y = to_categorical(y, num_classes=total_words)\n",
        "\n",
        "# Building a simple RNN model\n",
        "model = Sequential()\n",
        "model.add(Embedding(input_dim=total_words, output_dim=50, input_length=max_sequence_length-1))\n",
        "model.add(SimpleRNN(100, return_sequences=True))\n",
        "model.add(SimpleRNN(100))\n",
        "model.add(Dense(total_words, activation='softmax'))\n",
        "\n",
        "# Compiling the model\n",
        "model.compile(optimizer='adam', loss='categorical_crossentropy', metrics=['accuracy'])\n",
        "\n",
        "# Training the model\n",
        "model.fit(X, y, epochs=50, verbose=2)\n",
        "\n",
        "\n"
      ]
    },
    {
      "cell_type": "code",
      "source": [
        "# Generating text using the trained model\n",
        "seed_text = input(\"Enter the starting word: \")\n",
        "next_words = int(input(\"Enter how many words to predict: \"))\n",
        "\n",
        "for _ in range(next_words):\n",
        "    tokenized_seed = tokenizer.texts_to_sequences([seed_text])[0]\n",
        "    tokenized_seed = pad_sequences([tokenized_seed], maxlen=max_sequence_length-1, padding='pre')\n",
        "    predicted_word_index = np.argmax(model.predict(tokenized_seed), axis=-1)\n",
        "    predicted_word = tokenizer.index_word[predicted_word_index[0]]\n",
        "    seed_text += \" \" + predicted_word\n",
        "\n",
        "print(seed_text)"
      ],
      "metadata": {
        "colab": {
          "base_uri": "https://localhost:8080/"
        },
        "id": "5jK7GQy5ROom",
        "outputId": "8f092b84-7c63-450b-c42d-f89e8bd1b5d6"
      },
      "execution_count": null,
      "outputs": [
        {
          "output_type": "stream",
          "name": "stdout",
          "text": [
            "Enter the starting word: i \n",
            "Enter how many words to predict: 3\n",
            "1/1 [==============================] - 0s 24ms/step\n",
            "1/1 [==============================] - 0s 25ms/step\n",
            "1/1 [==============================] - 0s 26ms/step\n",
            "i  love python networks\n"
          ]
        }
      ]
    }
  ]
}