{
  "nbformat": 4,
  "nbformat_minor": 0,
  "metadata": {
    "colab": {
      "provenance": []
    },
    "kernelspec": {
      "name": "python3",
      "display_name": "Python 3"
    },
    "language_info": {
      "name": "python"
    }
  },
  "cells": [
    {
      "cell_type": "code",
      "execution_count": null,
      "metadata": {
        "id": "vrYz8fxGQo4B"
      },
      "outputs": [],
      "source": [
        "!pip install scipy\n",
        "!pip install matplotlib"
      ]
    },
    {
      "cell_type": "code",
      "source": [
        "#integration\n",
        "import scipy\n",
        "from scipy import integrate\n",
        "result,error=integrate.quad(lambda x:x**2,0,1)\n",
        "print(\"Result : \",result)\n",
        "print(\"Error : \",error)"
      ],
      "metadata": {
        "colab": {
          "base_uri": "https://localhost:8080/"
        },
        "id": "x6ue8lQYTH0t",
        "outputId": "79c71018-ebf4-4a69-974a-8c9994bf093d"
      },
      "execution_count": null,
      "outputs": [
        {
          "output_type": "stream",
          "name": "stdout",
          "text": [
            "Result :  0.33333333333333337\n",
            "Error :  3.700743415417189e-15\n"
          ]
        }
      ]
    },
    {
      "cell_type": "code",
      "source": [
        "square=lambda x:x**2\n",
        "result=square(5)\n",
        "print(result)"
      ],
      "metadata": {
        "colab": {
          "base_uri": "https://localhost:8080/"
        },
        "id": "hYky6trEVTMt",
        "outputId": "afc3de61-baa9-4440-ad81-279b223b469c"
      },
      "execution_count": null,
      "outputs": [
        {
          "output_type": "stream",
          "name": "stdout",
          "text": [
            "25\n"
          ]
        }
      ]
    },
    {
      "cell_type": "code",
      "source": [
        "#optmizer\n",
        "import numpy as np\n",
        "from scipy import optimize\n",
        "result_optmization=optimize.minimize_scalar(lambda x:x**2+3*x+5)#f(x)=aX^2+bx+c  min=-b/2a x=independent,y=dependent (x1,y1) (x2,y2) y1+((x-x1)(y2.y1)/x2-x1) x is taregt variable\n",
        "print(\"Optimization Result :\",result_optmization.x)"
      ],
      "metadata": {
        "colab": {
          "base_uri": "https://localhost:8080/"
        },
        "id": "5NyEuqEGWKEH",
        "outputId": "2a7c9855-825f-48f5-dd25-1b6c46a5e885"
      },
      "execution_count": null,
      "outputs": [
        {
          "output_type": "stream",
          "name": "stdout",
          "text": [
            "Optimization Result : -1.5000000000000002\n"
          ]
        }
      ]
    },
    {
      "cell_type": "code",
      "source": [
        "#Interpolation\n",
        "import numpy as np\n",
        "from scipy import interpolate\n",
        "import matplotlib.pyplot as plt\n",
        "x_data=np.array([0,1,2,3,4])\n",
        "y_data=np.array([0,2,3,1,5])\n",
        "interp_func=interpolate.interp1d(x_data,y_data,kind='linear')\n",
        "interp_result=interp_func(2.5)\n",
        "print(\"Interpolation Result :\",interp_result)\n",
        "plt.plot(x_data,y_data)\n",
        "plt.show()"
      ],
      "metadata": {
        "id": "OwlxwCmNY_Df"
      },
      "execution_count": null,
      "outputs": []
    },
    {
      "cell_type": "code",
      "source": [
        "#scipy\n",
        "import numpy as np\n",
        "import pandas as pd\n",
        "import scipy.stats as stat\n",
        "import statsmodels.api as sm\n",
        "#Generate the sample data\n",
        "np.random.seed(0)\n",
        "data=pd.DataFrame({\n",
        "   'Treatment':np.random.choice(['A','B','C'],size=100),\n",
        "   'Score':np.random.normal(loc=10,scale=2,size=100)\n",
        "})\n",
        "print(data)"
      ],
      "metadata": {
        "colab": {
          "base_uri": "https://localhost:8080/"
        },
        "id": "dDXUS3aLgGsv",
        "outputId": "211161f8-6a64-4d78-c771-956903667346"
      },
      "execution_count": null,
      "outputs": [
        {
          "output_type": "stream",
          "name": "stdout",
          "text": [
            "   Treatment      Score\n",
            "0          A   8.626821\n",
            "1          B  10.029747\n",
            "2          A   9.248668\n",
            "3          B   9.923553\n",
            "4          B  10.735949\n",
            "..       ...        ...\n",
            "95         A   9.933528\n",
            "96         C  10.131283\n",
            "97         A  10.531571\n",
            "98         B  12.303684\n",
            "99         C  10.276086\n",
            "\n",
            "[100 rows x 2 columns]\n"
          ]
        }
      ]
    },
    {
      "cell_type": "code",
      "source": [
        "#Hypothesis testing\n",
        "group_A=data[data['Treatment']=='A']['Score']\n",
        "group_B=data[data['Treatment']=='B']['Score']\n",
        "group_C=data[data['Treatment']=='C']['Score']\n",
        "print(group_A.mean())\n",
        "print(group_B.mean())\n",
        "t_stat,p_value=stat.f_oneway(group_A,group_B,group_C)\n",
        "print(\"t=satistic:\",t_stat)\n",
        "print(\"p_value:\",p_value)"
      ],
      "metadata": {
        "colab": {
          "base_uri": "https://localhost:8080/"
        },
        "id": "LSlfCd9dfJ2O",
        "outputId": "ecf167cd-a9e5-425e-c637-79bc6bc792e4"
      },
      "execution_count": null,
      "outputs": [
        {
          "output_type": "stream",
          "name": "stdout",
          "text": [
            "9.611240887576757\n",
            "10.09930422270451\n",
            "t=satistic: 0.6019178068930898\n",
            "p_value: 0.5497930622874936\n"
          ]
        }
      ]
    },
    {
      "cell_type": "code",
      "source": [
        "np.random.seed(0)\n",
        "data=pd.DataFrame({\n",
        "   'Treatment':np.random.normal(loc=5,scale=3,size=10),\n",
        "   'Score':np.random.normal(loc=10,scale=2,size=10)\n",
        "})\n",
        "print(data)"
      ],
      "metadata": {
        "colab": {
          "base_uri": "https://localhost:8080/"
        },
        "id": "UEidYcEvgWC1",
        "outputId": "381c2795-fac2-4444-df66-3de17d0fc631"
      },
      "execution_count": null,
      "outputs": [
        {
          "output_type": "stream",
          "name": "stdout",
          "text": [
            "   Treatment      Score\n",
            "0  10.292157  10.288087\n",
            "1   6.200472  12.908547\n",
            "2   7.936214  11.522075\n",
            "3  11.722680  10.243350\n",
            "4  10.602674  10.887726\n",
            "5   2.068166  10.667349\n",
            "6   7.850265  12.988158\n",
            "7   4.545928   9.589683\n",
            "8   4.690343  10.626135\n",
            "9   6.231796   8.291809\n"
          ]
        }
      ]
    },
    {
      "cell_type": "code",
      "source": [
        "group_A=data['Treatment']\n",
        "group_B=data['Score']\n",
        "print(group_A.mean())\n",
        "print(group_B.mean())\n",
        "t_stat,p_value=stats.f_oneway(group_A,group_B)\n",
        "print(\"t=satistic:\",t_stat)\n",
        "print(\"p_value:\",p_value)"
      ],
      "metadata": {
        "colab": {
          "base_uri": "https://localhost:8080/"
        },
        "id": "npNUMqa0maWz",
        "outputId": "008c6bdf-c6ef-42e9-b14f-8a8202bd82bf"
      },
      "execution_count": null,
      "outputs": [
        {
          "output_type": "stream",
          "name": "stdout",
          "text": [
            "7.214069512186503\n",
            "10.80129203032487\n",
            "t=satistic: 11.31980403021537\n",
            "p_value: 0.003452475800748067\n"
          ]
        }
      ]
    },
    {
      "cell_type": "code",
      "source": [
        "#ANOVA testing\n",
        "f_stat,p_value=stat.f_oneway(data[data['Treatment']=='A']['Score'],\n",
        "                             data[data['Treatment']=='B']['Score'],\n",
        "                              data[data['Treatment']=='C']['Score'])\n",
        "print('S-Statistic : ',f_stat)\n",
        "print('p_value : ',p_value)\n"
      ],
      "metadata": {
        "colab": {
          "base_uri": "https://localhost:8080/"
        },
        "id": "iitimUiqyejg",
        "outputId": "1615ed6b-0eba-42c9-e3be-442e51a27cde"
      },
      "execution_count": null,
      "outputs": [
        {
          "output_type": "stream",
          "name": "stdout",
          "text": [
            "S-Statistic :  0.6019178068930898\n",
            "p_value :  0.5497930622874936\n"
          ]
        }
      ]
    },
    {
      "cell_type": "code",
      "source": [
        "from statsmodels.stats.multicomp import pairwise_tukeyhsd\n",
        "\n",
        "# Combine all data into a single array\n",
        "all_data = np.concatenate([group_A, group_B, group_C])\n",
        "\n",
        "# Create labels for groups\n",
        "labels = ['group_A'] * len(group_A) + ['group_B'] * len(group_B) + ['group_C'] * len(group_C)\n",
        "\n",
        "# Perform Tukey's HSD test\n",
        "tukey_results = pairwise_tukeyhsd(all_data, labels, alpha=0.05)\n",
        "\n",
        "# Print pairwise comparisons\n",
        "print(tukey_results)"
      ],
      "metadata": {
        "colab": {
          "base_uri": "https://localhost:8080/"
        },
        "id": "KWvQ0l4bQ44s",
        "outputId": "f7f3d279-73cd-4160-e49d-23da014f3cda"
      },
      "execution_count": null,
      "outputs": [
        {
          "output_type": "stream",
          "name": "stdout",
          "text": [
            " Multiple Comparison of Means - Tukey HSD, FWER=0.05 \n",
            "=====================================================\n",
            " group1  group2 meandiff p-adj   lower  upper  reject\n",
            "-----------------------------------------------------\n",
            "group_A group_B   0.4881 0.5599 -0.6399  1.616  False\n",
            "group_A group_C   0.3994 0.7101 -0.8041  1.603  False\n",
            "group_B group_C  -0.0886 0.9842 -1.3279 1.1506  False\n",
            "-----------------------------------------------------\n"
          ]
        }
      ]
    },
    {
      "cell_type": "code",
      "source": [
        "x=sm.add_constant(data[\"Treatment\"].replace({'A':0,'B':1,'C':2}))\n",
        "model=sm.OLS(data['Score'],x)\n",
        "results=model.fit()\n",
        "print(results.summary())"
      ],
      "metadata": {
        "colab": {
          "base_uri": "https://localhost:8080/"
        },
        "id": "ILG_G8VBTj56",
        "outputId": "121ed984-99c5-4572-b44c-9c6f4b70232f"
      },
      "execution_count": null,
      "outputs": [
        {
          "output_type": "stream",
          "name": "stdout",
          "text": [
            "                            OLS Regression Results                            \n",
            "==============================================================================\n",
            "Dep. Variable:                  Score   R-squared:                       0.008\n",
            "Model:                            OLS   Adj. R-squared:                 -0.002\n",
            "Method:                 Least Squares   F-statistic:                    0.7559\n",
            "Date:                Sat, 17 Feb 2024   Prob (F-statistic):              0.387\n",
            "Time:                        09:06:50   Log-Likelihood:                -210.90\n",
            "No. Observations:                 100   AIC:                             425.8\n",
            "Df Residuals:                      98   BIC:                             431.0\n",
            "Df Model:                           1                                         \n",
            "Covariance Type:            nonrobust                                         \n",
            "==============================================================================\n",
            "                 coef    std err          t      P>|t|      [0.025      0.975]\n",
            "------------------------------------------------------------------------------\n",
            "const          9.6932      0.299     32.452      0.000       9.100      10.286\n",
            "Treatment      0.2179      0.251      0.869      0.387      -0.279       0.715\n",
            "==============================================================================\n",
            "Omnibus:                        0.548   Durbin-Watson:                   1.883\n",
            "Prob(Omnibus):                  0.760   Jarque-Bera (JB):                0.654\n",
            "Skew:                          -0.163   Prob(JB):                        0.721\n",
            "Kurtosis:                       2.775   Cond. No.                         2.63\n",
            "==============================================================================\n",
            "\n",
            "Notes:\n",
            "[1] Standard Errors assume that the covariance matrix of the errors is correctly specified.\n"
          ]
        }
      ]
    },
    {
      "cell_type": "code",
      "source": [
        "#ols\n",
        "import numpy as np\n",
        "import statsmodels.api as sm\n",
        "\n",
        "# Sample data\n",
        "X = np.array([1, 2, 3, 4, 5])  # Independent variable\n",
        "y = np.array([2, 4, 5, 4, 5])  # Dependent variable\n",
        "\n",
        "# Add a constant to the independent variable (for intercept estimation)\n",
        "X = sm.add_constant(X)\n",
        "\n",
        "# Create OLS model\n",
        "model = sm.OLS(y, X)\n",
        "\n",
        "# Fit the model\n",
        "results = model.fit()\n",
        "\n",
        "# Print summary of results\n",
        "print(results.summary())"
      ],
      "metadata": {
        "colab": {
          "base_uri": "https://localhost:8080/"
        },
        "id": "Tw2i8RYbZUbY",
        "outputId": "dc2a4c0d-339e-4316-ab26-150ec6c838cc"
      },
      "execution_count": null,
      "outputs": [
        {
          "output_type": "stream",
          "name": "stdout",
          "text": [
            "                            OLS Regression Results                            \n",
            "==============================================================================\n",
            "Dep. Variable:                      y   R-squared:                       0.600\n",
            "Model:                            OLS   Adj. R-squared:                  0.467\n",
            "Method:                 Least Squares   F-statistic:                     4.500\n",
            "Date:                Sat, 17 Feb 2024   Prob (F-statistic):              0.124\n",
            "Time:                        09:28:33   Log-Likelihood:                -5.2598\n",
            "No. Observations:                   5   AIC:                             14.52\n",
            "Df Residuals:                       3   BIC:                             13.74\n",
            "Df Model:                           1                                         \n",
            "Covariance Type:            nonrobust                                         \n",
            "==============================================================================\n",
            "                 coef    std err          t      P>|t|      [0.025      0.975]\n",
            "------------------------------------------------------------------------------\n",
            "const          2.2000      0.938      2.345      0.101      -0.785       5.185\n",
            "x1             0.6000      0.283      2.121      0.124      -0.300       1.500\n",
            "==============================================================================\n",
            "Omnibus:                          nan   Durbin-Watson:                   2.017\n",
            "Prob(Omnibus):                    nan   Jarque-Bera (JB):                0.570\n",
            "Skew:                           0.289   Prob(JB):                        0.752\n",
            "Kurtosis:                       1.450   Cond. No.                         8.37\n",
            "==============================================================================\n",
            "\n",
            "Notes:\n",
            "[1] Standard Errors assume that the covariance matrix of the errors is correctly specified.\n"
          ]
        },
        {
          "output_type": "stream",
          "name": "stderr",
          "text": [
            "/usr/local/lib/python3.10/dist-packages/statsmodels/stats/stattools.py:74: ValueWarning: omni_normtest is not valid with less than 8 observations; 5 samples were given.\n",
            "  warn(\"omni_normtest is not valid with less than 8 observations; %i \"\n"
          ]
        }
      ]
    }
  ]
}