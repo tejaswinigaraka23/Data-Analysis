{
  "nbformat": 4,
  "nbformat_minor": 0,
  "metadata": {
    "colab": {
      "provenance": []
    },
    "kernelspec": {
      "name": "python3",
      "display_name": "Python 3"
    },
    "language_info": {
      "name": "python"
    }
  },
  "cells": [
    {
      "cell_type": "code",
      "execution_count": null,
      "metadata": {
        "id": "V0OrcPAFj3Uk"
      },
      "outputs": [],
      "source": [
        "from bs4 import BeautifulSoup\n",
        "import requests\n",
        "import pandas as pd"
      ]
    },
    {
      "cell_type": "markdown",
      "source": [
        "Project\n",
        "Extracting html code of any wedsite"
      ],
      "metadata": {
        "id": "IS-EoPwItgzn"
      }
    },
    {
      "cell_type": "code",
      "source": [
        "url=('https://github.com/')\n",
        "page=requests.get(url)\n",
        "htcode=BeautifulSoup(page.text,'html')\n",
        "print(htcode)"
      ],
      "metadata": {
        "id": "cCQ2LgI5vK1-"
      },
      "execution_count": null,
      "outputs": []
    },
    {
      "cell_type": "code",
      "source": [
        "t=htcode.find('title')\n",
        "print(t)"
      ],
      "metadata": {
        "id": "Bzd6a_gq2KRt"
      },
      "execution_count": null,
      "outputs": []
    },
    {
      "cell_type": "code",
      "source": [
        "print(t.text)"
      ],
      "metadata": {
        "id": "zbuSDV382Yxe"
      },
      "execution_count": null,
      "outputs": []
    },
    {
      "cell_type": "code",
      "source": [
        "url=('https://www.forbesindia.com/article/explainers/top-10-richest-people-india/85909/1')\n",
        "page=requests.get(url)\n",
        "htcode=BeautifulSoup(page.text,'html')\n",
        "print(htcode)"
      ],
      "metadata": {
        "id": "nUvbeZ_i3Gfe"
      },
      "execution_count": null,
      "outputs": []
    },
    {
      "cell_type": "code",
      "source": [
        "t=htcode.find('title')\n",
        "print(t)"
      ],
      "metadata": {
        "id": "pmRVne_S4ZQc"
      },
      "execution_count": null,
      "outputs": []
    },
    {
      "cell_type": "code",
      "source": [
        "print(t.text)"
      ],
      "metadata": {
        "id": "5qZNE8R-4jNk"
      },
      "execution_count": null,
      "outputs": []
    },
    {
      "cell_type": "code",
      "source": [
        "a=htcode.find('table')\n",
        "print(a)"
      ],
      "metadata": {
        "id": "9JqGL8Qg5YIC"
      },
      "execution_count": null,
      "outputs": []
    },
    {
      "cell_type": "code",
      "source": [
        "headings=a.find_all('th')\n",
        "print(headings)"
      ],
      "metadata": {
        "id": "6_Xcdv8u6Y7E"
      },
      "execution_count": null,
      "outputs": []
    },
    {
      "cell_type": "code",
      "source": [
        "hl=[i.text for i in headings]#list_name[output for loop]\n",
        "print(hl)"
      ],
      "metadata": {
        "id": "JtjhLfhv8c87"
      },
      "execution_count": null,
      "outputs": []
    },
    {
      "cell_type": "code",
      "source": [
        "#creating data frame\n",
        "df=pd.DataFrame(columns=hl)\n",
        "print(df)\n",
        "data=a.find_all('tr')\n",
        "print(data)\n"
      ],
      "metadata": {
        "id": "fINDrwLZ98Kh"
      },
      "execution_count": null,
      "outputs": []
    },
    {
      "cell_type": "code",
      "source": [
        "ind=0\n",
        "for i in data[1:6]:\n",
        "  #print(i)\n",
        "  erd=i.find_all('td')\n",
        "  #print(erd)\n",
        "  rd=[j.text for j in erd]\n",
        "  print(rd)\n",
        "  df.loc[ind]=rd\n",
        "  ind=ind+1\n",
        "print(df)\n",
        "df.to_csv(\"df.csv\")"
      ],
      "metadata": {
        "id": "W7aNEQFzFtCT"
      },
      "execution_count": null,
      "outputs": []
    },
    {
      "cell_type": "code",
      "source": [
        "l=pd.read_csv(\"/content/df.csv\")\n",
        "print(l)"
      ],
      "metadata": {
        "id": "Ho3oaUGSCOcu"
      },
      "execution_count": null,
      "outputs": []
    },
    {
      "cell_type": "code",
      "source": [
        "!pip install selenium\n",
        "!pip install webdriver_manager\n",
        "import selenium\n",
        "from selenium import webdriver\n",
        "from time import sleep\n",
        "from selenium.webdriver.chrome.options import Options\n",
        "from webdriver_manager.chrome import ChromeDriverManager\n",
        "from selenium.webdriver.common.by import By\n",
        "from selenium.webdriver.common.keys import Keys"
      ],
      "metadata": {
        "id": "x9tTnQ0Cgn6z"
      },
      "execution_count": null,
      "outputs": []
    },
    {
      "cell_type": "code",
      "source": [
        "from requests import Request, Session\n",
        "from requests.exceptions import ConnectionError, Timeout, TooManyRedirects\n",
        "import json\n",
        "import pandas as pd\n",
        "\n",
        "url = 'https://pro-api.coinmarketcap.com/v1/cryptocurrency/listings/latest'\n",
        "parameters = {\n",
        "  'start':'1',\n",
        "  'limit':'2500',\n",
        "  'convert':'USD'\n",
        "}\n",
        "headers = {\n",
        "  'Accepts': 'application/json',\n",
        "  'X-CMC_PRO_API_KEY': '3b6ff230-d49b-4f6b-91f0-9f801d238497',\n",
        "}\n",
        "\n",
        "session = Session()\n",
        "session.headers.update(headers)\n",
        "\n",
        "try:\n",
        "  response = session.get(url, params=parameters)\n",
        "  data = json.loads(response.text)\n",
        "  print(data)\n",
        "except (ConnectionError, Timeout, TooManyRedirects) as e:\n",
        "  print(e)\n",
        "df=pd.json_normalize(data['data'])\n",
        "print(df)"
      ],
      "metadata": {
        "id": "-Bh5rFHMAViR"
      },
      "execution_count": null,
      "outputs": []
    },
    {
      "cell_type": "code",
      "source": [
        "import requests\n",
        "page=requests.get('https://randomfox.ca/floof')\n",
        "print(page.status_code)\n",
        "print(page.text)\n",
        "fox=page.json()\n",
        "image=fox['image']\n",
        "print(image)"
      ],
      "metadata": {
        "colab": {
          "base_uri": "https://localhost:8080/"
        },
        "id": "r1Gtq_-oLutz",
        "outputId": "1702bed4-24f1-4552-94c3-8b52346a21f2"
      },
      "execution_count": null,
      "outputs": [
        {
          "output_type": "stream",
          "name": "stdout",
          "text": [
            "200\n",
            "{\"image\":\"https:\\/\\/randomfox.ca\\/images\\/36.jpg\",\"link\":\"https:\\/\\/randomfox.ca\\/?i=36\"}\n",
            "https://randomfox.ca/images/36.jpg\n"
          ]
        }
      ]
    },
    {
      "cell_type": "markdown",
      "source": [
        "id of the search box i amazon is 'twotabsearchtextbox'\n",
        "search but id id-'nav_search-submit-button'\n",
        ".//span[@class=\"a-size-medium a-color-base a-text-normal\"]\n",
        ".//span[@class=\"a-price-whole\"]"
      ],
      "metadata": {
        "id": "Ci5glvxAyuUT"
      }
    }
  ]
}