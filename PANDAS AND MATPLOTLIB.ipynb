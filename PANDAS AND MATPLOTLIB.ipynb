{
  "nbformat": 4,
  "nbformat_minor": 0,
  "metadata": {
    "colab": {
      "provenance": []
    },
    "kernelspec": {
      "name": "python3",
      "display_name": "Python 3"
    },
    "language_info": {
      "name": "python"
    }
  },
  "cells": [
    {
      "cell_type": "code",
      "execution_count": null,
      "metadata": {
        "id": "t0gG5c0jCrPx"
      },
      "outputs": [],
      "source": [
        "import pandas as pd\n",
        "import numpy as np\n",
        "import matplotlib.pyplot as plt"
      ]
    },
    {
      "cell_type": "code",
      "source": [
        "!pip install pandas"
      ],
      "metadata": {
        "id": "okIaR9qbs6fn"
      },
      "execution_count": null,
      "outputs": []
    },
    {
      "cell_type": "code",
      "source": [
        "a=[\"teja\",\"sreeja\",\"trishitha\",\"ramya\"]\n",
        "b=pd.Series(a,index=[1,5,7,9])\n",
        "print(b)"
      ],
      "metadata": {
        "id": "XTpyriSGCsEf"
      },
      "execution_count": null,
      "outputs": []
    },
    {
      "cell_type": "code",
      "source": [
        "#reading csv file\n",
        "df=pd.read_csv(\"/content/sample_data/california_housing_test.csv\")\n",
        "print(df)\n",
        "#print location\n",
        "print(df.loc[2])\n",
        "#print mean\n",
        "print(df['median_income'].mean())\n",
        "#remove duplicates\n",
        "df=df.drop_duplicates()\n",
        "print(df)\n",
        "#accesing data using head and tail\n",
        "df.head(10)\n",
        "df.tail(10)\n",
        "df.shape"
      ],
      "metadata": {
        "id": "JJ8vHagFs_ZD"
      },
      "execution_count": null,
      "outputs": []
    },
    {
      "cell_type": "code",
      "source": [
        "#converting the variable to file\n",
        "test=df.tail(10)\n",
        "print(test)\n",
        "test.to_csv(\"test.csv\")\n",
        "test.to_excel(\"test.xlsx\")\n",
        "test1=test.tail(2)\n",
        "print(test1)\n",
        "#droping\n",
        "for i in range(2999,2997,-1):\n",
        "  test.drop([i],axis=0,inplace=True)\n",
        "print(test)"
      ],
      "metadata": {
        "id": "v2GU1O-2MnT0"
      },
      "execution_count": null,
      "outputs": []
    },
    {
      "cell_type": "code",
      "source": [
        "#groupby\n",
        "print(test)\n",
        "print(test.groupby(['total_rooms'])['total_bedrooms'].count())"
      ],
      "metadata": {
        "id": "ykIeSq4jTIm-"
      },
      "execution_count": null,
      "outputs": []
    },
    {
      "cell_type": "code",
      "source": [
        "#reading text file\n",
        "df=pd.read_csv(\"/content/numpy.txt\",sep=\" \")\n",
        "print(df)"
      ],
      "metadata": {
        "id": "IsCRTxR6xIj8"
      },
      "execution_count": null,
      "outputs": []
    },
    {
      "cell_type": "code",
      "source": [
        "df=pd.read_excel(\"/content/excelsheet (2).xlsx\",sheet_name=1)\n",
        "print(df)"
      ],
      "metadata": {
        "id": "qIGOv4p116Vc"
      },
      "execution_count": null,
      "outputs": []
    },
    {
      "cell_type": "code",
      "source": [
        "#connecting the drive\n",
        "from google.colab import drive\n",
        "drive.mount('/content/drive')"
      ],
      "metadata": {
        "id": "kXrvcywIFk09"
      },
      "execution_count": null,
      "outputs": []
    },
    {
      "cell_type": "code",
      "source": [
        "#matplotlib\n",
        "#for dot representation\n",
        "runs=np.array([100,50,91,78,89,25,34,19,9,10])\n",
        "w=np.array([1,0,2,0,3,7,8,9,7,5])\n",
        "plt.scatter(runs,w,color='blue')\n",
        "plt.title('IndvsPak_score')\n",
        "plt.show()"
      ],
      "metadata": {
        "id": "HSWWgKAho6Oc"
      },
      "execution_count": null,
      "outputs": []
    },
    {
      "cell_type": "code",
      "source": [
        "#pi value graph with plot functon\n",
        "tigar=np.linspace(-2*np.pi,2*np.pi,50)\n",
        "print(tigar)\n",
        "plt.plot(tigar,np.sin(tigar),color='black')#plot(x,y,color,lables...)\n",
        "plt.title(\"sin(x)\")#heading of the graph\n",
        "plt.show()#show the graph"
      ],
      "metadata": {
        "id": "jzoyw50OqwEL"
      },
      "execution_count": null,
      "outputs": []
    },
    {
      "cell_type": "code",
      "source": [
        "#creating match result\n",
        "#creating x\n",
        "overs=np.arange(5,50,5)\n",
        "overs_a=np.arange(5,30,5)\n",
        "#creating y\n",
        "runs_i=np.array([25,51,84,131,160,189,220,250,267])\n",
        "runs_a=np.array([15,41,94,110,151])\n",
        "wickets=np.array([12,32,96])\n",
        "#plotting\n",
        "plt.subplot(2,1,1)\n",
        "plt.plot(overs,runs_i,color='blue',label='india')\n",
        "plt.legend(loc='best')\n",
        "plt.subplot(2,1,2)\n",
        "plt.plot(overs_a,runs_a,color='yellow',label='Austrailia')\n",
        "plt.legend(loc='best')\n",
        "#for labels\n",
        "plt.legend(loc='best')\n",
        "plt.show()"
      ],
      "metadata": {
        "id": "G4elM9a_veN6"
      },
      "execution_count": null,
      "outputs": []
    },
    {
      "cell_type": "code",
      "source": [
        "a=[230,560,780,127,128]\n",
        "b=[200,160,270,127,400]\n",
        "years=[1,2,3,4]\n",
        "profit_a=[(a[i]-a[i-1]) for i in range(1,len(a))]\n",
        "profit_b=[(b[i]-b[i-1]) for i in range(1,len(b))]\n",
        "plt.subplot(2,1,1)\n",
        "plt.plot(years,profit_a,color='hotpink',linewidth='2',label='CompanyA',marker='*',ms='10',mec='m')\n",
        "plt.legend(loc='best')\n",
        "plt.subplot(2,1,2)\n",
        "plt.plot(years,profit_b,color='black',linestyle='dotted',linewidth='1',label='CompanyB',marker='*',ms='10',mec='k')\n",
        "plt.legend(loc='best')\n",
        "plt.show()"
      ],
      "metadata": {
        "id": "RAUf1xbdyH7O"
      },
      "execution_count": null,
      "outputs": []
    },
    {
      "cell_type": "code",
      "source": [
        "a=np.array([25,60,5,10])\n",
        "labe=[\"AIML\",\"PYTHON\",\"PANDAS\",\"NUMPY\"]\n",
        "plt.pie(a,labels=labe)\n",
        "plt.show()"
      ],
      "metadata": {
        "id": "OD7Pvxot84zM"
      },
      "execution_count": null,
      "outputs": []
    },
    {
      "cell_type": "code",
      "source": [
        "a=np.array([25,60,5,10])\n",
        "labe=[\"AIML\",\"PYTHON\",\"PANDAS\",\"NUMPY\"]\n",
        "explo=[0.1,0,0,0]\n",
        "c=[\"coral\",\"yellowgreen\",\"green\",\"lightskyblue\"]\n",
        "plt.pie(a,labels=labe,explode=explo,colors=c,startangle=360)\n",
        "plt.show()"
      ],
      "metadata": {
        "id": "9nhmsS2o9aUS"
      },
      "execution_count": null,
      "outputs": []
    },
    {
      "cell_type": "code",
      "source": [
        "import pandas as pd\n",
        "import numpy as np\n",
        "import matplotlib.pyplot as plt\n",
        "df=pd.read_excel(\"/content/temparature.xlsx\")\n",
        "print(df)\n",
        "min=(df['Temparature'].min())\n",
        "max=(df['Temparature'].max())\n",
        "avg=(df['Temparature'].mean())\n",
        "print(\"Lowest Temparature is :\",min)\n",
        "print(\"Highest Temparature is :\",max)\n",
        "print(\"Average Temparature is :\",avg)\n",
        "count=0\n",
        "for i in df['Temparature']:\n",
        "  if(i>avg):\n",
        "    count=count+1\n",
        "print(\"Number of days the temparature exceeds the threshold temparature is :\",count)\n",
        "plt.title(\"Temparature of 50 days\")\n",
        "plt.plot(df['Days'],df['Temparature'],color='green')\n",
        "plt.legend(loc='best')\n",
        "plt.show()"
      ],
      "metadata": {
        "id": "MIf45TJpwVEq"
      },
      "execution_count": null,
      "outputs": []
    }
  ]
}